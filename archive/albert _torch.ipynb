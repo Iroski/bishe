{
 "cells": [
  {
   "cell_type": "code",
   "execution_count": 1,
   "id": "8fd264cc",
   "metadata": {},
   "outputs": [],
   "source": [
    "import pandas as pd\n",
    "import gc\n",
    "from nltk.corpus import stopwords\n",
    "stop_words = stopwords.words('english')\n",
    "import tensorflow as tf\n",
    "from tensorflow.keras.layers import Dense, Input\n",
    "from tensorflow.keras.optimizers import Adam\n",
    "from tensorflow.keras.models import Model\n",
    "import transformers\n",
    "from sklearn.model_selection import train_test_split\n",
    "import numpy as np\n",
    "from transformers import TFAutoModel\n",
    "from keras.utils.vis_utils import plot_model\n",
    "import warnings\n",
    "warnings.filterwarnings(\"ignore\")\n",
    "\n"
   ]
  },
  {
   "cell_type": "code",
   "execution_count": 6,
   "id": "4e5f5f21",
   "metadata": {},
   "outputs": [],
   "source": [
    "import os\n",
    "os.environ[\"CUDA_VISIBLE_DEVICES\"] = \"0\""
   ]
  },
  {
   "cell_type": "code",
   "execution_count": 7,
   "id": "7bcf0471",
   "metadata": {},
   "outputs": [
    {
     "name": "stdout",
     "output_type": "stream",
     "text": [
      "[]\n"
     ]
    }
   ],
   "source": [
    "gpus = tf.config.experimental.list_physical_devices(device_type='GPU')\n",
    "print(gpus)"
   ]
  },
  {
   "cell_type": "code",
   "execution_count": null,
   "id": "8e6f4a3d",
   "metadata": {},
   "outputs": [],
   "source": [
    "train_df=pd.read_csv('small_data.tsv',sep='\\t')\n",
    "train_y=train_df['label']\n",
    "train_x,val_x,train_y,val_y=train_test_split(train_df['text'],train_y,test_size=0.2,random_state=50)\n",
    "\n",
    "AUTO = tf.data.experimental.AUTOTUNE\n",
    "# Configuration of hyperparameters\n",
    "EPOCHS = 3\n",
    "#batch size denotes the partitioning amongst the cluster replicas.\n",
    "BATCH_SIZE = 128\n",
    "MAX_LEN = 192\n",
    "\n",
    "strategy = tf.distribute.get_strategy()\n",
    "print(\"Replicas num: \", strategy.num_replicas_in_sync)\n",
    "\n",
    "\n",
    "maxlen=512\n",
    "def quick_encode(texts,tokenizer, maxlen=maxlen):\n",
    "    enc_di = tokenizer.batch_encode_plus(\n",
    "        texts,\n",
    "        return_attention_mask=False,\n",
    "        return_token_type_ids=False,\n",
    "        pad_to_max_length=True,\n",
    "        max_length=maxlen,\n",
    "        truncation=True,\n",
    "    )\n",
    "    return np.array(enc_di[\"input_ids\"])\n",
    "\n",
    "def built_model(transformer,train_data,val_data,batch_size,img_name, max_len=512):\n",
    "    inp_words_ids = Input(shape =(max_len,),dtype = tf.int32,name=\"input_word_ids\")\n",
    "    seq_output = transformer(inp_words_ids)[0]\n",
    "    cls_token = seq_output[:,0,:]\n",
    "    output =  Dense(3,activation='softmax')(cls_token)\n",
    "    model = Model(inputs =inp_words_ids,outputs=output)\n",
    "    model.compile(Adam(lr=1e-5),loss='sparse_categorical_crossentropy',metrics=['accuracy'])\n",
    "    model.summary()\n",
    "    model_checkpoint_callback = tf.keras.callbacks.ModelCheckpoint(\n",
    "        filepath='./model',\n",
    "        monitor='val_accuracy',\n",
    "        mode='max',\n",
    "        save_best_only=True)\n",
    "    plot_model(\n",
    "        model,to_file=img_name,\n",
    "        show_shapes=True,\n",
    "        show_layer_names=True,\n",
    "        rankdir=\"TB\",\n",
    "        expand_nested=False,\n",
    "        dpi=96)\n",
    "    model.fit(\n",
    "        train_data,\n",
    "        steps_per_epoch=batch_size,\n",
    "        validation_data=val_data,\n",
    "        epochs=EPOCHS,\n",
    "        callbacks=[model_checkpoint_callback]\n",
    "        )\n",
    "    return model\n",
    "\n",
    "def del_obects(*args):\n",
    "    for arg in args:\n",
    "        del arg\n",
    "        gc.collect()\n",
    "\n",
    "\n",
    "with strategy.scope():\n",
    "    distilbert_tokenizer = transformers.DistilBertTokenizer.from_pretrained('albert-base-v2')\n",
    "    train_x_enc = quick_encode(train_x.astype(str), distilbert_tokenizer, maxlen=MAX_LEN)\n",
    "    val_x_enc = quick_encode(val_x.astype(str), distilbert_tokenizer, maxlen=MAX_LEN)\n",
    "    train_dataset = (\n",
    "        tf.data.Dataset.from_tensor_slices((train_x_enc, train_y))\n",
    "            .repeat()\n",
    "            .shuffle(2048)\n",
    "            .batch(BATCH_SIZE)\n",
    "            .prefetch(AUTO)\n",
    "    )\n",
    "    valid_dataset = (\n",
    "        tf.data.Dataset.from_tensor_slices((val_x_enc, val_y))\n",
    "            .batch(BATCH_SIZE)\n",
    "            .cache()\n",
    "            .prefetch(AUTO)\n",
    "    )\n",
    "    transformer_layer = TFAutoModel.from_pretrained('albert-base-v2')\n",
    "    model=built_model(transformer_layer, train_dataset, valid_dataset, train_x_enc.shape[0],\n",
    "                \"Distilbert_Multilingual_Transformer.png\", max_len=MAX_LEN)\n",
    "    del_obects(train_x_enc, val_x_enc, train_dataset, valid_dataset, distilbert_tokenizer, transformer_layer)"
   ]
  }
 ],
 "metadata": {
  "kernelspec": {
   "display_name": "Python [conda env:tf] *",
   "language": "python",
   "name": "conda-env-tf-py"
  },
  "language_info": {
   "codemirror_mode": {
    "name": "ipython",
    "version": 3
   },
   "file_extension": ".py",
   "mimetype": "text/x-python",
   "name": "python",
   "nbconvert_exporter": "python",
   "pygments_lexer": "ipython3",
   "version": "3.7.12"
  }
 },
 "nbformat": 4,
 "nbformat_minor": 5
}
