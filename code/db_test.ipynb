{
 "cells": [
  {
   "cell_type": "code",
   "execution_count": 1,
   "metadata": {},
   "outputs": [],
   "source": [
    "import pymongo\n",
    "import pprint\n",
    "dbClient=pymongo.MongoClient(\"mongodb://localhost:27017/\")\n",
    "\n",
    "db=dbClient[\"bug_lib\"]\n",
    "\n",
    "itemCol=db[\"item\"]"
   ]
  },
  {
   "cell_type": "code",
   "execution_count": 3,
   "metadata": {},
   "outputs": [
    {
     "data": {
      "text/plain": [
       "<pymongo.results.InsertOneResult at 0x1e23e691388>"
      ]
     },
     "execution_count": 3,
     "metadata": {},
     "output_type": "execute_result"
    }
   ],
   "source": [
    "testData={\"name\":\"2\",\"numbers\":[1,2,3,4]}\n",
    "result=itemCol.insert_one(testData)\n",
    "result"
   ]
  },
  {
   "cell_type": "code",
   "execution_count": 2,
   "metadata": {},
   "outputs": [
    {
     "name": "stdout",
     "output_type": "stream",
     "text": [
      "None\n"
     ]
    }
   ],
   "source": [
    "findData=itemCol.find_one({\"name\":\"3\"})\n",
    "pprint.pprint(findData)"
   ]
  },
  {
   "cell_type": "code",
   "execution_count": 7,
   "metadata": {},
   "outputs": [
    {
     "name": "stdout",
     "output_type": "stream",
     "text": [
      "{'_id': ObjectId('616546a979636caab4483db9'),\n",
      " 'name': '2',\n",
      " 'numbers': [1, 2, 3, 4, 2, 2, 2]}\n"
     ]
    }
   ],
   "source": [
    "findData[\"numbers\"].append(2)\n",
    "pprint.pprint(findData)\n",
    "new_value={\"$set\":findData}"
   ]
  },
  {
   "cell_type": "code",
   "execution_count": 8,
   "metadata": {},
   "outputs": [
    {
     "data": {
      "text/plain": [
       "<pymongo.results.UpdateResult at 0x1d5ed8d5288>"
      ]
     },
     "execution_count": 8,
     "metadata": {},
     "output_type": "execute_result"
    }
   ],
   "source": [
    "itemCol.update_one({\"name\":\"2\"},new_value)"
   ]
  },
  {
   "cell_type": "code",
   "execution_count": 9,
   "metadata": {},
   "outputs": [],
   "source": [
    "import json"
   ]
  },
  {
   "cell_type": "code",
   "execution_count": 12,
   "metadata": {},
   "outputs": [
    {
     "data": {
      "text/plain": [
       "<pymongo.results.InsertOneResult at 0x1d5ef1e9548>"
      ]
     },
     "execution_count": 12,
     "metadata": {},
     "output_type": "execute_result"
    }
   ],
   "source": [
    "data=json.load(open('pr_json/113.json'))\n",
    "itemCol.insert_one(data)"
   ]
  },
  {
   "cell_type": "code",
   "execution_count": 25,
   "metadata": {},
   "outputs": [],
   "source": [
    "template=[\"number\",\"url\",\"diff_url\",\"issue_url\",\"state\",\"title\",\"body\",\"created_at\",\"merged_at\",\"base\"]"
   ]
  },
  {
   "cell_type": "code",
   "execution_count": 28,
   "metadata": {},
   "outputs": [
    {
     "data": {
      "text/plain": [
       "{'number': 113,\n",
       " 'url': 'https://api.github.com/repos/Iroski/SE-group-90/pulls/113',\n",
       " 'diff_url': 'https://github.com/Iroski/SE-group-90/pull/113.diff',\n",
       " 'issue_url': 'https://api.github.com/repos/Iroski/SE-group-90/issues/113',\n",
       " 'state': 'closed',\n",
       " 'title': '[F&B]MOD: 更改了pom里的设置，main可以正常运行，更改了一菲json里的数字',\n",
       " 'body': '',\n",
       " 'created_at': '2021-05-27T04:48:27Z',\n",
       " 'merged_at': '2021-05-27T05:22:38Z',\n",
       " 'base': 'main'}"
      ]
     },
     "execution_count": 28,
     "metadata": {},
     "output_type": "execute_result"
    }
   ],
   "source": [
    "one={}\n",
    "for label in template:\n",
    "    if label != \"base\":\n",
    "        one[label]=data[label]\n",
    "    else:\n",
    "        one[\"base\"]=data[label][\"ref\"]\n",
    "one"
   ]
  },
  {
   "cell_type": "code",
   "execution_count": 38,
   "metadata": {},
   "outputs": [],
   "source": [
    "wc=[]\n",
    "for i in wc:\n",
    "    print(i)"
   ]
  },
  {
   "cell_type": "code",
   "execution_count": 29,
   "metadata": {},
   "outputs": [
    {
     "data": {
      "text/plain": [
       "<pymongo.results.InsertOneResult at 0x1d5eef9d848>"
      ]
     },
     "execution_count": 29,
     "metadata": {},
     "output_type": "execute_result"
    }
   ],
   "source": [
    "itemCol.insert_one(one)"
   ]
  },
  {
   "cell_type": "code",
   "execution_count": 35,
   "metadata": {},
   "outputs": [
    {
     "name": "stdout",
     "output_type": "stream",
     "text": [
      "0\n",
      "1\n",
      "2\n",
      "3\n",
      "4\n"
     ]
    }
   ],
   "source": [
    "def giao():\n",
    "    i=0\n",
    "    while i != 5:\n",
    "        yield i\n",
    "        i=i+1\n",
    "for data in giao():\n",
    "    print(data)"
   ]
  },
  {
   "cell_type": "code",
   "execution_count": null,
   "metadata": {},
   "outputs": [],
   "source": []
  }
 ],
 "metadata": {
  "kernelspec": {
   "display_name": "Python 3",
   "language": "python",
   "name": "python3"
  },
  "language_info": {
   "codemirror_mode": {
    "name": "ipython",
    "version": 3
   },
   "file_extension": ".py",
   "mimetype": "text/x-python",
   "name": "python",
   "nbconvert_exporter": "python",
   "pygments_lexer": "ipython3",
   "version": "3.7.8"
  }
 },
 "nbformat": 4,
 "nbformat_minor": 1
}
